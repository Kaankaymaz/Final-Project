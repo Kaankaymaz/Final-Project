{
 "cells": [
  {
   "cell_type": "markdown",
   "id": "7662f793",
   "metadata": {},
   "source": [
    "# IMDB Reviews Analysis"
   ]
  },
  {
   "cell_type": "markdown",
   "id": "4a9c98e4",
   "metadata": {},
   "source": [
    "**Dilruba Benzerler 090190309 benzerler19@itu.edu.tr**\n",
    "\n",
    "**Kaan Kaymaz 090180333 kaymaz18@itu.edu.tr**"
   ]
  },
  {
   "cell_type": "markdown",
   "id": "f47a8137",
   "metadata": {},
   "source": [
    "### Dataset Link and Explanation"
   ]
  },
  {
   "cell_type": "markdown",
   "id": "5d668a15",
   "metadata": {},
   "source": [
    "This [dataset](https://www.kaggle.com/datasets/columbine/imdb-dataset-sentiment-analysis-in-csv-format#:~:text=file_download-,Download%20(27%20MB),-more_vert) involves reviews of some random films imported from IMBD. It has two columns which are \"text\" and \"label. \"text\" contains text of reviews of films and \"label\" contains the sentiment of the reviews as \"0\",\"1\". The dataset is seperated as 3 folders. First one includes 40000 rows of reviews as train dataset,second one includes 5000 rows of reviews as test dataset and the last one includes 5000 rows of reviews as validation dataset."
   ]
  },
  {
   "cell_type": "markdown",
   "id": "31d847af",
   "metadata": {},
   "source": [
    "### Object of the Project"
   ]
  },
  {
   "cell_type": "markdown",
   "id": "013b92f3",
   "metadata": {},
   "source": [
    "The label column of the dataset is a column formed by outputting 0 if the comment is negative and 1 if it is positive, depending on what type of emotional expressions the movie reviews contain, positive or negative. Therefore,\n",
    "\n",
    "   *1. The first aim is to check the accuracy of this column.*\n",
    "\n",
    "When the data was examined, it was understood that the reviews could be grouped under certain topics. These topics will be cinematic categories such as \"cinematography\", \"director's evaluation\", \"the subject of the film\", \"acting\". Therefore,\n",
    "\n",
    "   *2. Our second aim is to identify the topics that are mainly mentioned in the reviews and to classify the reviews under these topics.*"
   ]
  },
  {
   "cell_type": "markdown",
   "id": "cdf790a7",
   "metadata": {},
   "source": [
    "### Methods and Algorithms "
   ]
  },
  {
   "cell_type": "markdown",
   "id": "776d2610",
   "metadata": {},
   "source": [
    "When the dataset was examined, it was observed that the data were in 3 separate folders as train, test and validation. However, due to the fact that this distinction does not make sense in using methods and algorithms, it was decided that it would be more convenient to combine these files as one dataframe. \n",
    "\n",
    "To test our first hypothesis Logistic regression algorithms will be used which will give the result whether the \"label\" column is correct or not. And interpretation will be made according to the accuracy value to be obtained from this model. \n",
    "\n",
    "In order to test our second hypothesis, some classification algorithms that work efficiently and give good results will be run among algorithms such as K-NN, Naive Bayes, SVM, Decision Trees and Logistic Regression. To use these classification algorithms, it is necessary to create a new column containing the clusters. Clustering will be done according to which topic the reviews are about."
   ]
  },
  {
   "cell_type": "markdown",
   "id": "1429aa80",
   "metadata": {},
   "source": [
    "### Task Distribution "
   ]
  },
  {
   "cell_type": "markdown",
   "id": "286c46bf",
   "metadata": {},
   "source": [
    "Basically the whole project will be carried out together. However, Dilruba will work predominantly in the first hypothesis of the project, while Kaan will predominantly work in the second hypothesis. In addition, which algorithms will be used in the project and how the algorithms to be used should be discussed and decided together."
   ]
  },
  {
   "cell_type": "markdown",
   "id": "87f8d805-be45-4d6f-a141-59f6fde7c7d5",
   "metadata": {},
   "source": [
    "## Atabey's notes\n",
    "\n",
    "You must provide some samples of the dataset(s) and explain what they contain. What is the shape of the dataset? What features does it have? Is the data structured or unstructured? How are you planning on converting text into a usable dataset? \n",
    "\n",
    "Your questions are too vague. How are you planning on testing the accuracy of sentiments attached to each review? How are you going to figure out topics? What do you mean by 'sentiment' and what do you mean by 'topic'? How are you going to model them? What type of ML models are there that would help you answer this question?\n",
    "\n",
    "This proposal is weak. It reads like something written in less than an hour. Also, the data is fairly well studied: there are close to 50 notebooks that studied this data on kaggle only. You must do something substantially different from them."
   ]
  },
  {
   "cell_type": "code",
   "execution_count": null,
   "id": "f6b0bf66-8718-4885-ad26-f94976a898ad",
   "metadata": {},
   "outputs": [],
   "source": []
  }
 ],
 "metadata": {
  "kernelspec": {
   "display_name": "Python 3 (ipykernel)",
   "language": "python",
   "name": "python3"
  },
  "language_info": {
   "codemirror_mode": {
    "name": "ipython",
    "version": 3
   },
   "file_extension": ".py",
   "mimetype": "text/x-python",
   "name": "python",
   "nbconvert_exporter": "python",
   "pygments_lexer": "ipython3",
   "version": "3.10.8"
  }
 },
 "nbformat": 4,
 "nbformat_minor": 5
}
